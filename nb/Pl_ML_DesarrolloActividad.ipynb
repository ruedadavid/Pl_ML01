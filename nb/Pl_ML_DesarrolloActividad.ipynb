{
 "cells": [
  {
   "cell_type": "markdown",
   "metadata": {},
   "source": [
    "# Carrera de Inteligencia Artificial\n",
    "\n",
    "## - Curso: Machine Learning Aplicado con Python\n",
    "Platzi - Juan Pablo Morales [@JuanpaMF](@JuanpaMF)\n",
    "\n",
    "Actividad desarrollada por: David Alonso Rueda Rodríguez (daruedar@correo.udistrital.edu.co)\n",
    "\n",
    "\n",
    "## Objetivo\n",
    "\n",
    "Aplicar conocimientos adquiridos luego de seguir el Curso de Machine Learning Aplicado con Python de Platzi\n",
    "\n",
    "## Temas Trabajados\n",
    "\n",
    "- [1. Problema](###Problema)\n",
    "- 2. Metodología aplicada\n",
    "- 3. Ambiente de trabajo\n",
    "- 4. Pre-procesamiento\n",
    "- 5. Modelamiento y Evaluación\n",
    "- 6. Evaluación de los modelos\n",
    "\n",
    "[lsita](#Foo)\n",
    "\n",
    "## Control de Versiones\n",
    "\n",
    "- 1.0 Preparación del repositorio de datos y descarga de material para seguir actividades del curso"
   ]
  },
  {
   "cell_type": "markdown",
   "metadata": {},
   "source": [
    "## Temas Trabajados\n",
    "\n",
    "### Problema\n",
    "\n",
    "Se plantea un cuestionario que servirá como guía en la definición del problema a trabajar:\n",
    "\n",
    "#### 1. ¿A quien y cómo generará valor el modelo?\n",
    "\n",
    "Se plantea una situación en la cual una promotora cultural quiere determinar en qué películas invertir las ayudas disponible spara realizar nuevas producciones.\n",
    "\n",
    "#### 2. ¿Qué tipo de funcionalidad aporta el modelo?\n",
    "\n",
    "El modelo debe entregar una estimación de la cantidad de ingresos que puede generar una película, por esta razón, la variable a predecir es de tipo contínuo y utilizará un modelode aprendizaje supervisado.\n",
    "\n",
    "|Tipo aprendizaje|Actividad 1|Actividad 2|\n",
    "|:---:|:---:|:---:|\n",
    "|Supervisado|Predecir un valor|Predecir Etiqueta|\n",
    "|No Supervisado|Optimizar procesos|Agrupar elementos|\n",
    "\n",
    "#### 3. Qué tipo de variable se quiere predecir\n",
    "- ¿Es una variable continua o discreta?\n",
    "- ¿Cuál es la definición de éxito para la estimación?\n",
    "- ¿Qué datos se tienen o quien es la fuente?\n",
    "- ¿A qué disciplina se asocia la actividad?\n",
    "- Los datos disponibles predicen la variable objetivo\n",
    "\n",
    "¿cómo se puede predecir los ingresos de una producción cinematográfica?\n",
    "\n",
    "# Foo"
   ]
  }
 ],
 "metadata": {
  "kernelspec": {
   "display_name": "Python 3",
   "language": "python",
   "name": "python3"
  },
  "language_info": {
   "codemirror_mode": {
    "name": "ipython",
    "version": 3
   },
   "file_extension": ".py",
   "mimetype": "text/x-python",
   "name": "python",
   "nbconvert_exporter": "python",
   "pygments_lexer": "ipython3",
   "version": "3.6.8"
  }
 },
 "nbformat": 4,
 "nbformat_minor": 2
}
